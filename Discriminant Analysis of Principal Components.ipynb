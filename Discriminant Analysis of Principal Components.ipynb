{
 "cells": [
  {
   "cell_type": "markdown",
   "metadata": {},
   "source": [
    "# This is a script I wrote in R to run a discriminant analysis of principal components which separates out individuals my mitochondrial haplotype"
   ]
  },
  {
   "cell_type": "code",
   "execution_count": 6,
   "metadata": {},
   "outputs": [],
   "source": [
    "setwd(\"~/GBS/GBS3/adegenet\")\n",
    "\n",
    "####SIGNIFICANT SNPS\n",
    "\n",
    "NJ155_mod_Sig<- read.PLINK(\"NJ155_mod_Sig_recodeA.raw\", map.file=NULL, quiet=FALSE, chunkSize=50,multicore=require(\"multicore\"), n.cores=NULL)\n",
    "## To determine the most likely number of clusters\n",
    "\n",
    "\n",
    "grp<-find.clusters(NJ155_mod_Sig, max.n.clust=10)\n",
    "\n",
    "  ##Choose the number PCs to retain (>=1): Choose the number PCs to retain (>=1): 50\n",
    "  ##Choose the number of clusters (>=2: Choose the number of clusters (>=2: 10\n",
    "\n",
    "  ##The lowest value is the most likely number of clusters\n",
    "\n",
    "pop(NJ155_mod_Sig) <- rep(c('North','South'),times=c(67,88))\n",
    "pop(NJ155_mod_Sig) ##gives you the population of each individuals\n",
    "\n",
    "dapc_LD <- dapc(NJ155_mod_Sig, n.pca=50, n.da=2)\n",
    "  ##n.pca is the number of axes retained in the Principal Component Analysis (PCA)\n",
    "  ##n.da is the number of axes retained in the Discriminant Analysis (DA).\n",
    "\n",
    "scatter(dapc_LD, pch=50, scree.pca=FALSE, scree.da=FALSE, leg=TRUE, posi.leg=\"topright\")\n",
    "\n",
    "##ALL SNPS\n",
    "\n",
    "NJ155_mod<- read.PLINK(\"NJ155_mod_recodeA.raw\", map.file=NULL, quiet=FALSE, chunkSize=50,multicore=require(\"multicore\"), n.cores=NULL)\n",
    "\n",
    "grp<-find.clusters(NJ155_mod, max.n.clust=10)\n",
    "\n",
    "pop(NJ155_mod) <- rep(c('North','South'),times=c(67,88))\n",
    "pop(NJ155_mod) ##gives you the population of each individuals\n",
    "\n",
    "DAPC_NJ155_mod <- dapc(NJ155_mod,n.pca=50, n.da=2)\n",
    "\n",
    "scatter(DAPC_NJ155_mod,legend=TRUE, bg=\"white\", pch=20)\n",
    "\n",
    "\n"
   ]
  },
  {
   "cell_type": "code",
   "execution_count": null,
   "metadata": {
    "collapsed": true
   },
   "outputs": [],
   "source": []
  }
 ],
 "metadata": {
  "kernelspec": {
   "display_name": "R",
   "language": "R",
   "name": "ir"
  },
  "language_info": {
   "codemirror_mode": "r",
   "file_extension": ".r",
   "mimetype": "text/x-r-source",
   "name": "R",
   "pygments_lexer": "r",
   "version": "3.4.1"
  }
 },
 "nbformat": 4,
 "nbformat_minor": 2
}
